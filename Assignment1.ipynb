{
  "nbformat": 4,
  "nbformat_minor": 0,
  "metadata": {
    "colab": {
      "provenance": []
    },
    "kernelspec": {
      "name": "python3",
      "display_name": "Python 3"
    },
    "language_info": {
      "name": "python"
    }
  },
  "cells": [
    {
      "cell_type": "markdown",
      "source": [
        "Ruchi Jha\n",
        "\n",
        "Week 1\n",
        "\n",
        "Section 2"
      ],
      "metadata": {
        "id": "bZ6Uo1HLAzWu"
      }
    },
    {
      "cell_type": "markdown",
      "source": [
        "1. Write a program that takes a word as an input and print the number of vowels in the word."
      ],
      "metadata": {
        "id": "OipwUWWH_3Kv"
      }
    },
    {
      "cell_type": "code",
      "execution_count": 1,
      "metadata": {
        "colab": {
          "base_uri": "https://localhost:8080/"
        },
        "id": "TywDjlWD_z4v",
        "outputId": "0bd0b7bb-b163-435e-8bea-38c709a00bcb"
      },
      "outputs": [
        {
          "output_type": "stream",
          "name": "stdout",
          "text": [
            "Enter a word: Hello\n",
            "Vowel count: 2\n"
          ]
        }
      ],
      "source": [
        "def count_vowels(word: str) -> int:\n",
        "    vowels = set(\"aeiouAEIOU\")\n",
        "    return sum(1 for ch in word if ch in vowels)\n",
        "\n",
        "# Example\n",
        "w = input(\"Enter a word: \")\n",
        "print(\"Vowel count:\", count_vowels(w))\n"
      ]
    },
    {
      "cell_type": "markdown",
      "source": [
        "2. Iterate through the following list of animals and print each one in all caps.\n",
        "\n",
        "  animals=['tiger', 'elephant', 'monkey', 'zebra', 'panther']"
      ],
      "metadata": {
        "id": "9otukTCB_-K0"
      }
    },
    {
      "cell_type": "code",
      "source": [
        "animals = ['tiger', 'elephant', 'monkey', 'zebra', 'panther']\n",
        "for a in animals:\n",
        "    print(a.upper())"
      ],
      "metadata": {
        "colab": {
          "base_uri": "https://localhost:8080/"
        },
        "id": "nYeJrvOS__Ec",
        "outputId": "b8c7618a-b108-4c68-8dad-61dbef729f27"
      },
      "execution_count": 2,
      "outputs": [
        {
          "output_type": "stream",
          "name": "stdout",
          "text": [
            "TIGER\n",
            "ELEPHANT\n",
            "MONKEY\n",
            "ZEBRA\n",
            "PANTHER\n"
          ]
        }
      ]
    },
    {
      "cell_type": "markdown",
      "source": [
        "3. Write a program that iterates from 1 to 20, printing each number and whether it's odd or even."
      ],
      "metadata": {
        "id": "BkNZED5EABif"
      }
    },
    {
      "cell_type": "code",
      "source": [
        "for n in range(1, 21):\n",
        "    kind = \"even\" if n % 2 == 0 else \"odd\"\n",
        "    print(f\"{n} -> {kind}\")"
      ],
      "metadata": {
        "colab": {
          "base_uri": "https://localhost:8080/"
        },
        "id": "TENpU-2tAF6O",
        "outputId": "8a6151a6-5e97-4942-907b-d22b494d5544"
      },
      "execution_count": 3,
      "outputs": [
        {
          "output_type": "stream",
          "name": "stdout",
          "text": [
            "1 -> odd\n",
            "2 -> even\n",
            "3 -> odd\n",
            "4 -> even\n",
            "5 -> odd\n",
            "6 -> even\n",
            "7 -> odd\n",
            "8 -> even\n",
            "9 -> odd\n",
            "10 -> even\n",
            "11 -> odd\n",
            "12 -> even\n",
            "13 -> odd\n",
            "14 -> even\n",
            "15 -> odd\n",
            "16 -> even\n",
            "17 -> odd\n",
            "18 -> even\n",
            "19 -> odd\n",
            "20 -> even\n"
          ]
        }
      ]
    },
    {
      "cell_type": "markdown",
      "source": [
        "4. Write a program to check if a string is a palindrome or not."
      ],
      "metadata": {
        "id": "Vebf-8sYAMJ3"
      }
    },
    {
      "cell_type": "code",
      "source": [
        "import re\n",
        "\n",
        "def is_palindrome(s: str) -> bool:\n",
        "    cleaned = re.sub(r'[^0-9A-Za-z]', '', s).lower()\n",
        "    return cleaned == cleaned[::-1]\n",
        "\n",
        "# Example\n",
        "s = input(\"Enter a string: \")\n",
        "print(\"Palindrome\" if is_palindrome(s) else \"Not a palindrome\")\n"
      ],
      "metadata": {
        "colab": {
          "base_uri": "https://localhost:8080/"
        },
        "id": "osPnOVFEALys",
        "outputId": "3db92e9a-2525-470e-c5b8-61528cff3a96"
      },
      "execution_count": 4,
      "outputs": [
        {
          "output_type": "stream",
          "name": "stdout",
          "text": [
            "Enter a string: Kayak\n",
            "Palindrome\n"
          ]
        }
      ]
    },
    {
      "cell_type": "markdown",
      "source": [
        "5. Write a function sum_of_integers(a, b) that takes two integers as input from the user and returns their sum."
      ],
      "metadata": {
        "id": "Q_j7KweoAQ9N"
      }
    },
    {
      "cell_type": "code",
      "source": [
        "def sum_of_integers(a: int, b: int) -> int:\n",
        "    return a + b\n",
        "\n",
        "# Example: read from user, call the function, and print the sum\n",
        "a = int(input(\"Enter first integer: \"))\n",
        "b = int(input(\"Enter second integer: \"))\n",
        "print(\"Sum:\", sum_of_integers(a, b))\n"
      ],
      "metadata": {
        "colab": {
          "base_uri": "https://localhost:8080/"
        },
        "id": "CnDLcjJ4AUZE",
        "outputId": "8144b4b6-590f-4e51-be78-2491df7b5a2d"
      },
      "execution_count": 5,
      "outputs": [
        {
          "output_type": "stream",
          "name": "stdout",
          "text": [
            "Enter first integer: 15\n",
            "Enter second integer: 24\n",
            "Sum: 39\n"
          ]
        }
      ]
    }
  ]
}