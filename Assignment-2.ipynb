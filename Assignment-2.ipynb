{
  "nbformat": 4,
  "nbformat_minor": 0,
  "metadata": {
    "colab": {
      "provenance": []
    },
    "kernelspec": {
      "name": "python3",
      "display_name": "Python 3"
    },
    "language_info": {
      "name": "python"
    }
  },
  "cells": [
    {
      "cell_type": "markdown",
      "source": [
        "Ruchi Jha\n",
        "\n",
        "Week 2\n",
        "\n",
        "Section 2\n"
      ],
      "metadata": {
        "id": "Mtd8J7TO4Yle"
      }
    },
    {
      "cell_type": "markdown",
      "source": [
        "Numpy"
      ],
      "metadata": {
        "id": "kqXKYazR4fSI"
      }
    },
    {
      "cell_type": "markdown",
      "source": [
        "1.Define two custom numpy arrays, say A and B. Generate two new numpy arrays by stacking A and B vertically and horizontally."
      ],
      "metadata": {
        "id": "aIUFZaUe4YZT"
      }
    },
    {
      "cell_type": "code",
      "execution_count": 1,
      "metadata": {
        "colab": {
          "base_uri": "https://localhost:8080/"
        },
        "id": "EntGvCR1hdqN",
        "outputId": "2056e645-e664-4e17-b278-7e6f47a96460"
      },
      "outputs": [
        {
          "output_type": "stream",
          "name": "stdout",
          "text": [
            "Array A:\n",
            " [[1 2 3]\n",
            " [4 5 6]\n",
            " [7 8 9]]\n",
            "\n",
            "Array B:\n",
            " [[ 7  8  9]\n",
            " [10 11 12]\n",
            " [13 14 15]]\n"
          ]
        }
      ],
      "source": [
        "import numpy as np\n",
        "\n",
        "A = np.arange(1, 10).reshape(3, 3)\n",
        "B = np.arange(7, 16).reshape(3, 3)\n",
        "\n",
        "print(\"Array A:\\n\", A)\n",
        "print(\"\\nArray B:\\n\", B)\n"
      ]
    },
    {
      "cell_type": "code",
      "source": [
        "vertical_stack = np.vstack((A, B))\n",
        "horizontal_stack = np.hstack((A, B))\n",
        "print(\"Vertical Stack:\\n\", vertical_stack)\n",
        "print(\"\\nHorizontal Stack:\\n\", horizontal_stack)"
      ],
      "metadata": {
        "colab": {
          "base_uri": "https://localhost:8080/"
        },
        "id": "p5Qos3x2hgI4",
        "outputId": "dbc98944-bb2f-49dc-b4ca-bd7f47c73eb7"
      },
      "execution_count": 2,
      "outputs": [
        {
          "output_type": "stream",
          "name": "stdout",
          "text": [
            "Vertical Stack:\n",
            " [[ 1  2  3]\n",
            " [ 4  5  6]\n",
            " [ 7  8  9]\n",
            " [ 7  8  9]\n",
            " [10 11 12]\n",
            " [13 14 15]]\n",
            "\n",
            "Horizontal Stack:\n",
            " [[ 1  2  3  7  8  9]\n",
            " [ 4  5  6 10 11 12]\n",
            " [ 7  8  9 13 14 15]]\n"
          ]
        }
      ]
    },
    {
      "cell_type": "markdown",
      "source": [
        "Find common elements between A and B. [Hint: Intersection of two sets]"
      ],
      "metadata": {
        "id": "O2BJVoQa4haV"
      }
    },
    {
      "cell_type": "code",
      "source": [
        "common_elements = np.intersect1d(A, B)\n",
        "\n",
        "print(\"Array A:\", A)\n",
        "print(\"Array B:\", B)\n",
        "print(\"Common Elements:\", common_elements)"
      ],
      "metadata": {
        "colab": {
          "base_uri": "https://localhost:8080/"
        },
        "id": "8pmw_dj0hiBt",
        "outputId": "cb5c3876-2a49-426f-fa9b-998e7baf7c36"
      },
      "execution_count": 3,
      "outputs": [
        {
          "output_type": "stream",
          "name": "stdout",
          "text": [
            "Array A: [[1 2 3]\n",
            " [4 5 6]\n",
            " [7 8 9]]\n",
            "Array B: [[ 7  8  9]\n",
            " [10 11 12]\n",
            " [13 14 15]]\n",
            "Common Elements: [7 8 9]\n"
          ]
        }
      ]
    },
    {
      "cell_type": "markdown",
      "source": [
        "3. Extract all numbers from A which are within a specific range. eg between 5 and 10. [Hint: np.where() might be useful or boolean masks]"
      ],
      "metadata": {
        "id": "pYq1tZNB4sTc"
      }
    },
    {
      "cell_type": "code",
      "source": [
        "mask = (A > 5) & (A < 10)\n",
        "\n",
        "result = A[mask]\n",
        "\n",
        "print(\"Original Array:\", A)\n",
        "print(\"Numbers between 5 and 10:\", result)"
      ],
      "metadata": {
        "colab": {
          "base_uri": "https://localhost:8080/"
        },
        "id": "mkvEXqazhmxn",
        "outputId": "bb032e13-2e89-4082-807f-437227cfc6da"
      },
      "execution_count": 4,
      "outputs": [
        {
          "output_type": "stream",
          "name": "stdout",
          "text": [
            "Original Array: [[1 2 3]\n",
            " [4 5 6]\n",
            " [7 8 9]]\n",
            "Numbers between 5 and 10: [6 7 8 9]\n"
          ]
        }
      ]
    },
    {
      "cell_type": "markdown",
      "source": [
        "4.Filter the rows of iris_2d that has petallength (3rd column) > 1.5 and sepallength (1st column) < 5.0\n",
        "url = 'https://archive.ics.uci.edu/ml/machine-learning-databases/iris/iris.data'\n",
        "iris_2d = np.genfromtxt(url, delimiter=',', dtype='float', usecols=[0,1,2,3])"
      ],
      "metadata": {
        "id": "50eHwhEG4zph"
      }
    },
    {
      "cell_type": "code",
      "source": [
        "url = 'https://archive.ics.uci.edu/ml/machine-learning-databases/iris/iris.data'\n",
        "iris_2d = np.genfromtxt(url, delimiter=',', dtype='float', usecols=[0,1,2,3])\n",
        "\n",
        "mask = (iris_2d[:, 2] > 1.5) & (iris_2d[:, 0] < 5.0)\n",
        "\n",
        "filtered_iris = iris_2d[mask]\n",
        "\n",
        "print(\"Shape of original iris_2d:\", iris_2d.shape)\n",
        "print(\"Shape of filtered_iris:\", filtered_iris.shape)\n",
        "print(\"\\nFiltered Rows:\\n\", filtered_iris)"
      ],
      "metadata": {
        "colab": {
          "base_uri": "https://localhost:8080/"
        },
        "id": "1sCHc99Ghozh",
        "outputId": "56495b15-3813-4999-9fb5-b0fc1b8342f7"
      },
      "execution_count": 5,
      "outputs": [
        {
          "output_type": "stream",
          "name": "stdout",
          "text": [
            "Shape of original iris_2d: (150, 4)\n",
            "Shape of filtered_iris: (6, 4)\n",
            "\n",
            "Filtered Rows:\n",
            " [[4.8 3.4 1.6 0.2]\n",
            " [4.8 3.4 1.9 0.2]\n",
            " [4.7 3.2 1.6 0.2]\n",
            " [4.8 3.1 1.6 0.2]\n",
            " [4.9 2.4 3.3 1. ]\n",
            " [4.9 2.5 4.5 1.7]]\n"
          ]
        }
      ]
    },
    {
      "cell_type": "markdown",
      "source": [
        "Pandas"
      ],
      "metadata": {
        "id": "Nga4e7vy5Esq"
      }
    },
    {
      "cell_type": "markdown",
      "source": [
        "1.From df filter the 'Manufacturer', 'Model' and 'Type' for every 20th row starting from 1st (row 0).\n",
        "df = pd.read_csv('https://raw.githubusercontent.com/selva86/datasets/master/Cars93_miss.csv')"
      ],
      "metadata": {
        "id": "GvZ9YfQa5GLL"
      }
    },
    {
      "cell_type": "code",
      "source": [
        "import pandas as pd\n",
        "\n",
        "df = pd.read_csv('https://raw.githubusercontent.com/selva86/datasets/master/Cars93_miss.csv')\n",
        "\n",
        "result_df = df.loc[::20, ['Manufacturer', 'Model', 'Type']]\n",
        "\n",
        "print(result_df)"
      ],
      "metadata": {
        "colab": {
          "base_uri": "https://localhost:8080/"
        },
        "id": "e6MlZThDhrKm",
        "outputId": "70561954-0150-4776-d77a-213b48aeb15a"
      },
      "execution_count": 6,
      "outputs": [
        {
          "output_type": "stream",
          "name": "stdout",
          "text": [
            "   Manufacturer    Model     Type\n",
            "0         Acura  Integra    Small\n",
            "20     Chrysler  LeBaron  Compact\n",
            "40        Honda  Prelude   Sporty\n",
            "60      Mercury   Cougar  Midsize\n",
            "80       Subaru   Loyale    Small\n"
          ]
        }
      ]
    },
    {
      "cell_type": "markdown",
      "source": [
        "2.Replace missing values in Min.Price and Max.Price columns with their respective mean.\n",
        "df = pd.read_csv('https://raw.githubusercontent.com/selva86/datasets/master/Cars93_miss.csv')"
      ],
      "metadata": {
        "id": "v6HEug275NgO"
      }
    },
    {
      "cell_type": "code",
      "source": [
        "df = pd.read_csv('https://raw.githubusercontent.com/selva86/datasets/master/Cars93_miss.csv')\n",
        "\n",
        "min_price_mean = df['Min.Price'].mean()\n",
        "max_price_mean = df['Max.Price'].mean()\n",
        "\n",
        "df['Min.Price'].fillna(min_price_mean, inplace=True)\n",
        "df['Max.Price'].fillna(max_price_mean, inplace=True)\n",
        "\n",
        "print(\"Missing values in Min.Price after filling:\", df['Min.Price'].isnull().sum())\n",
        "print(\"Missing values in Max.Price after filling:\", df['Max.Price'].isnull().sum())"
      ],
      "metadata": {
        "colab": {
          "base_uri": "https://localhost:8080/"
        },
        "id": "ito8ibe4htEf",
        "outputId": "997a8c9f-4954-488f-a7b0-6f75bbe3917f"
      },
      "execution_count": 7,
      "outputs": [
        {
          "output_type": "stream",
          "name": "stdout",
          "text": [
            "Missing values in Min.Price after filling: 0\n",
            "Missing values in Max.Price after filling: 0\n"
          ]
        },
        {
          "output_type": "stream",
          "name": "stderr",
          "text": [
            "/tmp/ipython-input-2946284227.py:6: FutureWarning: A value is trying to be set on a copy of a DataFrame or Series through chained assignment using an inplace method.\n",
            "The behavior will change in pandas 3.0. This inplace method will never work because the intermediate object on which we are setting values always behaves as a copy.\n",
            "\n",
            "For example, when doing 'df[col].method(value, inplace=True)', try using 'df.method({col: value}, inplace=True)' or df[col] = df[col].method(value) instead, to perform the operation inplace on the original object.\n",
            "\n",
            "\n",
            "  df['Min.Price'].fillna(min_price_mean, inplace=True)\n",
            "/tmp/ipython-input-2946284227.py:7: FutureWarning: A value is trying to be set on a copy of a DataFrame or Series through chained assignment using an inplace method.\n",
            "The behavior will change in pandas 3.0. This inplace method will never work because the intermediate object on which we are setting values always behaves as a copy.\n",
            "\n",
            "For example, when doing 'df[col].method(value, inplace=True)', try using 'df.method({col: value}, inplace=True)' or df[col] = df[col].method(value) instead, to perform the operation inplace on the original object.\n",
            "\n",
            "\n",
            "  df['Max.Price'].fillna(max_price_mean, inplace=True)\n"
          ]
        }
      ]
    },
    {
      "cell_type": "markdown",
      "source": [
        "3.How to get the rows of a dataframe with row sum > 100?\n",
        "df = pd.DataFrame(np.random.randint(10, 40, 60).reshape(-1, 4))"
      ],
      "metadata": {
        "id": "bR3v1wts5PCF"
      }
    },
    {
      "cell_type": "code",
      "source": [
        "df = pd.DataFrame(np.random.randint(10, 40, 60).reshape(-1, 4))\n",
        "\n",
        "row_sums = df.sum(axis=1)\n",
        "\n",
        "filtered_df = df[row_sums > 100]\n",
        "\n",
        "print(\"Original DataFrame sample:\\n\", df.head())\n",
        "print(\"\\nRows with sum > 100:\\n\", filtered_df)"
      ],
      "metadata": {
        "colab": {
          "base_uri": "https://localhost:8080/"
        },
        "id": "kWX2gWmNhygq",
        "outputId": "a279e555-b93c-464c-d4f2-23654262511a"
      },
      "execution_count": 8,
      "outputs": [
        {
          "output_type": "stream",
          "name": "stdout",
          "text": [
            "Original DataFrame sample:\n",
            "     0   1   2   3\n",
            "0  29  38  35  39\n",
            "1  33  11  21  16\n",
            "2  29  31  26  23\n",
            "3  35  17  15  37\n",
            "4  13  28  18  20\n",
            "\n",
            "Rows with sum > 100:\n",
            "      0   1   2   3\n",
            "0   29  38  35  39\n",
            "2   29  31  26  23\n",
            "3   35  17  15  37\n",
            "6   38  29  17  30\n",
            "9   30  17  27  32\n",
            "10  35  22  35  26\n",
            "11  31  36  13  28\n",
            "14  29  25  19  37\n"
          ]
        }
      ]
    }
  ]
}